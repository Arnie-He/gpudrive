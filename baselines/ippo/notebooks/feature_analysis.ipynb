{
 "cells": [
  {
   "cell_type": "code",
   "execution_count": 1,
   "metadata": {},
   "outputs": [],
   "source": [
    "import os\n",
    "import torch\n",
    "from pathlib import Path\n",
    "import mediapy\n",
    "import matplotlib\n",
    "import matplotlib.pyplot as plt\n",
    "from typing import Tuple, Optional, List, Dict, Any, Union\n",
    "# Set working directory to the base directory 'gpudrive'\n",
    "working_dir = Path.cwd()\n",
    "while working_dir.name != 'gpudrive':\n",
    "    working_dir = working_dir.parent\n",
    "    if working_dir == Path.home():\n",
    "        raise FileNotFoundError(\"Base directory 'gpudrive' not found\")\n",
    "os.chdir(working_dir)\n",
    "\n",
    "import gpudrive\n",
    "from pygpudrive.env.config import EnvConfig, RenderConfig, SceneConfig\n",
    "from pygpudrive.env.env_torch import GPUDriveTorchEnv\n",
    "\n",
    "# Increase the resolution of the figure\n",
    "plt.rcParams['figure.dpi'] = 100  # Higher DPI for better resolution\n",
    "\n",
    "\n",
    "# Use a more readable font\n",
    "plt.rcParams['font.size'] = 12  # Increase font size\n",
    "plt.rcParams['font.family'] = 'sans-serif'  # Use a clean font like Arial\n",
    "plt.rcParams['axes.titlesize'] = 14  # Larger title size\n",
    "plt.rcParams['axes.labelsize'] = 12  # Larger axis label size\n"
   ]
  },
  {
   "cell_type": "code",
   "execution_count": 2,
   "metadata": {},
   "outputs": [],
   "source": [
    "DYNAMICS_MODEL = \"delta_local\" # \"delta_local\" / \"state\" / \"classic\"\n",
    "DATA_PATH = \"data/processed/examples\" # Your data path\n",
    "MAX_NUM_OBJECTS = 32\n",
    "NUM_ENVS = 10\n",
    "\n",
    "# Configs\n",
    "render_config = RenderConfig(draw_obj_idx=True)\n",
    "scene_config = SceneConfig(path=DATA_PATH, num_scenes=NUM_ENVS)\n",
    "env_config = EnvConfig(dynamics_model=DYNAMICS_MODEL)"
   ]
  },
  {
   "cell_type": "markdown",
   "metadata": {},
   "source": [
    "### Questions:\n",
    "\n",
    "- What is a good balance between the number of road points and the road reduction threshold?"
   ]
  },
  {
   "cell_type": "code",
   "execution_count": 3,
   "metadata": {},
   "outputs": [],
   "source": [
    "env_config.polyline_reduction_threshold = 0.01\n",
    "%load_ext autoreload\n",
    "%autoreload 2"
   ]
  },
  {
   "cell_type": "code",
   "execution_count": 4,
   "metadata": {},
   "outputs": [
    {
     "name": "stdout",
     "output_type": "stream",
     "text": [
      "\n",
      "--- Ratio unique scenes / number of worls = 3 / 10 ---\n",
      "\n"
     ]
    },
    {
     "data": {
      "text/plain": [
       "tensor([[[0.0868, 0.1541, 0.2051,  ..., 0.0000, 0.0000, 0.0000],\n",
       "         [0.0627, 0.1494, 0.2001,  ..., 0.0000, 0.0000, 0.0000],\n",
       "         [0.0000, 0.1866, 0.2441,  ..., 0.0000, 0.0000, 0.0000],\n",
       "         ...,\n",
       "         [0.0000, 0.0000, 0.0000,  ..., 0.0000, 0.0000, 0.0000],\n",
       "         [0.0000, 0.0000, 0.0000,  ..., 0.0000, 0.0000, 0.0000],\n",
       "         [0.0000, 0.0000, 0.0000,  ..., 0.0000, 0.0000, 0.0000]],\n",
       "\n",
       "        [[0.1219, 0.1577, 0.2127,  ..., 0.0000, 0.0000, 0.0000],\n",
       "         [0.1470, 0.1483, 0.1968,  ..., 0.0000, 0.0000, 0.0000],\n",
       "         [0.0971, 0.1881, 0.2325,  ..., 0.0000, 0.0000, 0.0000],\n",
       "         ...,\n",
       "         [0.0000, 0.0000, 0.0000,  ..., 0.0000, 0.0000, 0.0000],\n",
       "         [0.0000, 0.0000, 0.0000,  ..., 0.0000, 0.0000, 0.0000],\n",
       "         [0.0000, 0.0000, 0.0000,  ..., 0.0000, 0.0000, 0.0000]],\n",
       "\n",
       "        [[0.0000, 0.1552, 0.2115,  ..., 0.0000, 0.0000, 0.0000],\n",
       "         [0.1203, 0.1571, 0.2115,  ..., 0.0000, 0.0000, 0.0000],\n",
       "         [0.0000, 0.1529, 0.2014,  ..., 0.0000, 0.0000, 0.0000],\n",
       "         ...,\n",
       "         [0.0000, 0.0000, 0.0000,  ..., 0.0000, 0.0000, 0.0000],\n",
       "         [0.0000, 0.0000, 0.0000,  ..., 0.0000, 0.0000, 0.0000],\n",
       "         [0.0000, 0.0000, 0.0000,  ..., 0.0000, 0.0000, 0.0000]],\n",
       "\n",
       "        ...,\n",
       "\n",
       "        [[0.1219, 0.1577, 0.2127,  ..., 0.0000, 0.0000, 0.0000],\n",
       "         [0.1470, 0.1483, 0.1968,  ..., 0.0000, 0.0000, 0.0000],\n",
       "         [0.0971, 0.1881, 0.2325,  ..., 0.0000, 0.0000, 0.0000],\n",
       "         ...,\n",
       "         [0.0000, 0.0000, 0.0000,  ..., 0.0000, 0.0000, 0.0000],\n",
       "         [0.0000, 0.0000, 0.0000,  ..., 0.0000, 0.0000, 0.0000],\n",
       "         [0.0000, 0.0000, 0.0000,  ..., 0.0000, 0.0000, 0.0000]],\n",
       "\n",
       "        [[0.0000, 0.1552, 0.2115,  ..., 0.0000, 0.0000, 0.0000],\n",
       "         [0.1203, 0.1571, 0.2115,  ..., 0.0000, 0.0000, 0.0000],\n",
       "         [0.0000, 0.1529, 0.2014,  ..., 0.0000, 0.0000, 0.0000],\n",
       "         ...,\n",
       "         [0.0000, 0.0000, 0.0000,  ..., 0.0000, 0.0000, 0.0000],\n",
       "         [0.0000, 0.0000, 0.0000,  ..., 0.0000, 0.0000, 0.0000],\n",
       "         [0.0000, 0.0000, 0.0000,  ..., 0.0000, 0.0000, 0.0000]],\n",
       "\n",
       "        [[0.0868, 0.1541, 0.2051,  ..., 0.0000, 0.0000, 0.0000],\n",
       "         [0.0627, 0.1494, 0.2001,  ..., 0.0000, 0.0000, 0.0000],\n",
       "         [0.0000, 0.1866, 0.2441,  ..., 0.0000, 0.0000, 0.0000],\n",
       "         ...,\n",
       "         [0.0000, 0.0000, 0.0000,  ..., 0.0000, 0.0000, 0.0000],\n",
       "         [0.0000, 0.0000, 0.0000,  ..., 0.0000, 0.0000, 0.0000],\n",
       "         [0.0000, 0.0000, 0.0000,  ..., 0.0000, 0.0000, 0.0000]]])"
      ]
     },
     "execution_count": 4,
     "metadata": {},
     "output_type": "execute_result"
    }
   ],
   "source": [
    "env = GPUDriveTorchEnv(\n",
    "    config=env_config,\n",
    "    scene_config=scene_config,\n",
    "    max_cont_agents=MAX_NUM_OBJECTS,\n",
    "    device=\"cpu\",\n",
    "    render_config=render_config,\n",
    "    action_type=\"continuous\" # \"continuous\" or \"discrete\"\n",
    ")\n",
    "\n",
    "env.reset()"
   ]
  },
  {
   "cell_type": "markdown",
   "metadata": {},
   "source": [
    "### Plot simulator state"
   ]
  },
  {
   "cell_type": "code",
   "execution_count": 5,
   "metadata": {},
   "outputs": [],
   "source": [
    "from pygpudrive.datatypes.roadgraph import GlobalRoadGraphPoints\n",
    "from pygpudrive.datatypes.control import ControlMasks\n",
    "import matplotlib.pyplot as plt\n",
    "import numpy as np\n",
    "from pygpudrive.datatypes.observation import GlobalEgoState\n",
    "\n",
    "# Get global road graph (note: only needs to be done once)\n",
    "global_rg = GlobalRoadGraphPoints.from_tensor(\n",
    "    roadgraph_tensor=env.sim.map_observation_tensor(),\n",
    "    backend='torch',\n",
    "    device='cpu',\n",
    ")\n",
    "\n",
    "# Get control type tensor\n",
    "types = ControlMasks.from_tensor(\n",
    "    tensor=env.sim.response_type_tensor(),\n",
    "    backend='torch',\n",
    "    device='cpu',\n",
    ")\n",
    "\n",
    "# Get global agent state\n",
    "global_agent_state = GlobalEgoState.from_tensor(\n",
    "    env.sim.absolute_self_observation_tensor(),\n",
    "    backend='torch',\n",
    "    device='cpu',\n",
    ")\n",
    "\n",
    "global_rg.x.shape\n",
    "\n",
    "env_idx = 6"
   ]
  },
  {
   "cell_type": "code",
   "execution_count": 6,
   "metadata": {},
   "outputs": [
    {
     "data": {
      "image/png": "[encoded data removed]",
      "text/plain": [
       "<Figure size 640x480 with 1 Axes>"
      ]
     },
     "metadata": {},
     "output_type": "display_data"
    }
   ],
   "source": [
    "plt.plot(global_agent_state.vehicle_length[env_idx][types.static[env_idx]], 'r.', label='static_len')\n",
    "plt.plot(global_agent_state.vehicle_width[env_idx][types.static[env_idx]], 'rx', label='static_width')   \n",
    "plt.plot(global_agent_state.vehicle_length[env_idx][types.controlled[env_idx]], 'g.', label='controlled_len')\n",
    "plt.plot(global_agent_state.vehicle_width[env_idx][types.controlled[env_idx]], 'gx', label='controlled_width')   \n",
    "plt.legend();"
   ]
  },
  {
   "cell_type": "code",
   "execution_count": 7,
   "metadata": {},
   "outputs": [
    {
     "data": {
      "text/plain": [
       "(torch.Size([32]), torch.Size([32]), torch.Size([32]))"
      ]
     },
     "execution_count": 7,
     "metadata": {},
     "output_type": "execute_result"
    }
   ],
   "source": [
    "is_offroad = env.sim.info_tensor().to_torch()[env_idx, :, 0] == 1\n",
    "is_collided = env.sim.info_tensor().to_torch()[env_idx, :, 1:3].sum(axis=1) == 1\n",
    "is_ok = ~is_offroad & ~is_collided\n",
    "\n",
    "is_offroad.shape, is_collided.shape, is_ok.shape"
   ]
  },
  {
   "cell_type": "code",
   "execution_count": 8,
   "metadata": {},
   "outputs": [
    {
     "data": {
      "text/plain": [
       "tensor([ True,  True, False, False, False,  True, False, False, False, False,\n",
       "        False, False, False, False, False, False, False, False, False, False,\n",
       "        False, False, False, False, False, False, False, False, False, False,\n",
       "        False, False])"
      ]
     },
     "execution_count": 8,
     "metadata": {},
     "output_type": "execute_result"
    }
   ],
   "source": [
    "is_ok & types.controlled[env_idx]"
   ]
  },
  {
   "cell_type": "code",
   "execution_count": null,
   "metadata": {},
   "outputs": [],
   "source": []
  },
  {
   "cell_type": "code",
   "execution_count": 15,
   "metadata": {},
   "outputs": [
    {
     "data": {
      "image/png": "[encoded data removed]",
      "text/plain": [
       "<Figure size 600x600 with 1 Axes>"
      ]
     },
     "metadata": {},
     "output_type": "display_data"
    }
   ],
   "source": [
    "#fig, ax = plt.subplots(figsize=(7, 7))\n",
    "\n",
    "env.vis.plot_simulator_state(\n",
    "    env_idx=5,\n",
    ")"
   ]
  },
  {
   "cell_type": "markdown",
   "metadata": {},
   "source": []
  },
  {
   "cell_type": "code",
   "execution_count": null,
   "metadata": {},
   "outputs": [],
   "source": []
  },
  {
   "cell_type": "code",
   "execution_count": null,
   "metadata": {},
   "outputs": [],
   "source": []
  },
  {
   "cell_type": "code",
   "execution_count": 13,
   "metadata": {},
   "outputs": [
    {
     "data": {
      "text/plain": [
       "LocalRoadGraphPoints()"
      ]
     },
     "execution_count": 13,
     "metadata": {},
     "output_type": "execute_result"
    }
   ],
   "source": [
    "from pygpudrive.datatypes.roadgraph import LocalRoadGraphPoints\n",
    "\n",
    "local_roadgraph = LocalRoadGraphPoints.from_tensor(\n",
    "    local_roadgraph_tensor=env.sim.agent_roadmap_tensor(),\n",
    "    backend=\"torch\",\n",
    "    device=\"cpu\"\n",
    ")\n",
    "\n",
    "local_roadgraph"
   ]
  },
  {
   "cell_type": "code",
   "execution_count": 23,
   "metadata": {},
   "outputs": [
    {
     "data": {
      "text/plain": [
       "(0, 1)"
      ]
     },
     "execution_count": 23,
     "metadata": {},
     "output_type": "execute_result"
    }
   ],
   "source": [
    "import gpudrive\n",
    "\n",
    "int(gpudrive.EntityType._None), int(gpudrive.EntityType.RoadEdge), "
   ]
  },
  {
   "cell_type": "code",
   "execution_count": 24,
   "metadata": {},
   "outputs": [
    {
     "data": {
      "text/plain": [
       "tensor([[ True,  True, False, False, False,  True, False, False, False, False,\n",
       "         False, False, False, False, False, False, False, False, False, False,\n",
       "         False, False, False, False, False, False, False, False, False, False,\n",
       "         False, False]])"
      ]
     },
     "execution_count": 24,
     "metadata": {},
     "output_type": "execute_result"
    }
   ],
   "source": [
    "env.cont_agent_mask"
   ]
  },
  {
   "cell_type": "code",
   "execution_count": 25,
   "metadata": {},
   "outputs": [
    {
     "data": {
      "text/plain": [
       "torch.Size([3, 256])"
      ]
     },
     "execution_count": 25,
     "metadata": {},
     "output_type": "execute_result"
    }
   ],
   "source": [
    "local_roadgraph.type[env.cont_agent_mask].shape"
   ]
  },
  {
   "cell_type": "code",
   "execution_count": 26,
   "metadata": {},
   "outputs": [
    {
     "data": {
      "text/plain": [
       "tensor([1, 1, 1, 1, 1, 1, 1, 1, 1, 1, 1, 1, 1, 1, 1, 1, 1, 1, 1, 1, 1, 1, 1, 1,\n",
       "        1, 1, 1, 1, 1, 1, 1, 1, 1, 1, 1, 1, 1, 1, 1, 1, 1, 1, 1, 1, 1, 1, 1, 1,\n",
       "        1, 1, 1, 1, 1, 1, 1, 1, 1, 1, 1, 1, 1, 1, 1, 1, 1, 1, 1, 1, 1, 1, 1, 1,\n",
       "        1, 1, 2, 2, 2, 2, 2, 2, 2, 2, 2, 2, 2, 2, 2, 2, 2, 2, 2, 2, 2, 2, 2, 1,\n",
       "        1, 1, 1, 1, 1, 1, 1, 1, 1, 1, 1, 1, 1, 1, 1, 1, 1, 1, 1, 1, 1, 1, 1, 1,\n",
       "        1, 1, 1, 1, 1, 1, 1, 1, 1, 1, 1, 1, 1, 1, 1, 1, 1, 1, 1, 1, 1, 1, 1, 1,\n",
       "        1, 1, 1, 1, 1, 1, 1, 1, 1, 1, 1, 1, 1, 1, 1, 1, 1, 1, 1, 1, 1, 1, 1, 1,\n",
       "        1, 1, 1, 1, 1, 1, 1, 1, 1, 1, 1, 1, 1, 1, 1, 1, 1, 1, 1, 1, 1, 1, 1, 1,\n",
       "        1, 1, 1, 1, 1, 1, 1, 1, 1, 1, 1, 1, 1, 1, 1, 1, 1, 1, 1, 1, 1, 1, 1, 1,\n",
       "        1, 1, 1, 1, 1, 1, 1, 1, 1, 1, 1, 1, 1, 1, 1, 1, 1, 1, 1, 1, 1, 1, 1, 1,\n",
       "        1, 1, 1, 1, 1, 1, 1, 1, 1, 1, 1, 1, 1, 1, 1, 1])"
      ]
     },
     "execution_count": 26,
     "metadata": {},
     "output_type": "execute_result"
    }
   ],
   "source": [
    "local_roadgraph.type[env.cont_agent_mask][0, :]"
   ]
  },
  {
   "cell_type": "code",
   "execution_count": 27,
   "metadata": {},
   "outputs": [
    {
     "data": {
      "text/plain": [
       "tensor(0.)"
      ]
     },
     "execution_count": 27,
     "metadata": {},
     "output_type": "execute_result"
    }
   ],
   "source": [
    "padding_perc = (local_roadgraph.type[env.cont_agent_mask] == 0).sum()/local_roadgraph.type[env.cont_agent_mask].numel()\n",
    "\n",
    "padding_perc"
   ]
  },
  {
   "cell_type": "code",
   "execution_count": 28,
   "metadata": {},
   "outputs": [
    {
     "data": {
      "text/plain": [
       "(tensor(-99.6710), tensor(99.6373))"
      ]
     },
     "execution_count": 28,
     "metadata": {},
     "output_type": "execute_result"
    }
   ],
   "source": [
    "local_roadgraph.x.min(), local_roadgraph.x.max()"
   ]
  },
  {
   "cell_type": "code",
   "execution_count": 29,
   "metadata": {},
   "outputs": [
    {
     "data": {
      "text/plain": [
       "(tensor(-97.7108), tensor(97.2689))"
      ]
     },
     "execution_count": 29,
     "metadata": {},
     "output_type": "execute_result"
    }
   ],
   "source": [
    "local_roadgraph.y.min(), local_roadgraph.y.max()"
   ]
  },
  {
   "cell_type": "code",
   "execution_count": 30,
   "metadata": {},
   "outputs": [
    {
     "data": {
      "text/plain": [
       "(tensor(-97.7108), tensor(97.2689))"
      ]
     },
     "execution_count": 30,
     "metadata": {},
     "output_type": "execute_result"
    }
   ],
   "source": [
    "local_roadgraph.y.min(), local_roadgraph.y.max()"
   ]
  },
  {
   "cell_type": "code",
   "execution_count": 31,
   "metadata": {},
   "outputs": [
    {
     "data": {
      "text/plain": [
       "(tensor(0.1000), tensor(0.))"
      ]
     },
     "execution_count": 31,
     "metadata": {},
     "output_type": "execute_result"
    }
   ],
   "source": [
    "local_roadgraph.segment_height.max(), local_roadgraph.segment_height.min()"
   ]
  },
  {
   "cell_type": "markdown",
   "metadata": {},
   "source": []
  },
  {
   "cell_type": "code",
   "execution_count": 32,
   "metadata": {},
   "outputs": [
    {
     "data": {
      "text/plain": [
       "(tensor(0.1000), tensor(0.))"
      ]
     },
     "execution_count": 32,
     "metadata": {},
     "output_type": "execute_result"
    }
   ],
   "source": [
    "local_roadgraph.segment_width.max(), local_roadgraph.segment_width.min()"
   ]
  },
  {
   "cell_type": "code",
   "execution_count": 33,
   "metadata": {},
   "outputs": [
    {
     "data": {
      "text/plain": [
       "(tensor(7.8055), tensor(0.))"
      ]
     },
     "execution_count": 33,
     "metadata": {},
     "output_type": "execute_result"
    }
   ],
   "source": [
    "local_roadgraph.segment_length.max(), local_roadgraph.segment_length.min()"
   ]
  },
  {
   "cell_type": "code",
   "execution_count": null,
   "metadata": {},
   "outputs": [],
   "source": []
  },
  {
   "cell_type": "markdown",
   "metadata": {},
   "source": [
    "### Check agent observation"
   ]
  },
  {
   "cell_type": "code",
   "execution_count": 34,
   "metadata": {},
   "outputs": [
    {
     "name": "stdout",
     "output_type": "stream",
     "text": [
      "The autoreload extension is already loaded. To reload it, use:\n",
      "  %reload_ext autoreload\n"
     ]
    }
   ],
   "source": [
    "%load_ext autoreload\n",
    "%autoreload 2\n",
    "\n",
    "from pygpudrive.visualize.core import plot_agent_observation\n",
    "from pygpudrive.datatypes.observation import (\n",
    "    LocalEgoState,\n",
    "    PartnerObs,\n",
    "    LidarObs,\n",
    ")\n",
    "from pygpudrive.datatypes.trajectory import LogTrajectory\n",
    "from pygpudrive.datatypes.roadgraph import LocalRoadGraphPoints\n"
   ]
  },
  {
   "cell_type": "code",
   "execution_count": 35,
   "metadata": {},
   "outputs": [
    {
     "data": {
      "text/plain": [
       "torch.Size([1, 32, 31, 1])"
      ]
     },
     "execution_count": 35,
     "metadata": {},
     "output_type": "execute_result"
    }
   ],
   "source": [
    "ego_state = LocalEgoState.from_tensor(\n",
    "    self_obs_tensor=env.sim.self_observation_tensor(),\n",
    "    backend=\"torch\",\n",
    "    device=\"cpu\",\n",
    ")\n",
    "\n",
    "local_roadgraph = LocalRoadGraphPoints.from_tensor(\n",
    "    local_roadgraph_tensor=env.sim.agent_roadmap_tensor(),\n",
    "    backend=\"torch\",\n",
    "    device=\"cpu\",\n",
    ")\n",
    "\n",
    "partner_obs = PartnerObs.from_tensor(\n",
    "    partner_obs_tensor=env.sim.partner_observations_tensor(),\n",
    "    backend=\"torch\",\n",
    "    device=\"cpu\"\n",
    ")\n",
    "\n",
    "partner_obs.rel_pos_x.shape"
   ]
  },
  {
   "cell_type": "code",
   "execution_count": 36,
   "metadata": {},
   "outputs": [
    {
     "data": {
      "image/png": "[encoded data removed]",
      "text/plain": [
       "<Figure size 600x600 with 1 Axes>"
      ]
     },
     "metadata": {},
     "output_type": "display_data"
    },
    {
     "ename": "",
     "evalue": "",
     "output_type": "error",
     "traceback": [
      "\u001b[1;31mThe Kernel crashed while executing code in the current cell or a previous cell. \n",
      "\u001b[1;31mPlease review the code in the cell(s) to identify a possible cause of the failure. \n",
      "\u001b[1;31mClick <a href='https://aka.ms/vscodeJupyterKernelCrash'>here</a> for more info. \n",
      "\u001b[1;31mView Jupyter <a href='command:jupyter.viewOutput'>log</a> for further details."
     ]
    }
   ],
   "source": [
    "fig, ax = plot_agent_observation(\n",
    "    env_idx=0,\n",
    "    agent_idx=1,\n",
    "    observation_roadgraph=local_roadgraph,\n",
    "    observation_ego=ego_state,\n",
    "    observation_partner=partner_obs,\n",
    "    time_step=0,\n",
    ");"
   ]
  },
  {
   "cell_type": "markdown",
   "metadata": {},
   "source": [
    "### Check LiDAR observations\n",
    "\n",
    "- Normalize \n",
    "- Check obs dim"
   ]
  },
  {
   "cell_type": "code",
   "execution_count": 46,
   "metadata": {},
   "outputs": [],
   "source": [
    "env.reset();"
   ]
  },
  {
   "cell_type": "code",
   "execution_count": 42,
   "metadata": {},
   "outputs": [
    {
     "data": {
      "text/plain": [
       "torch.Size([1, 32, 3, 50, 4])"
      ]
     },
     "execution_count": 42,
     "metadata": {},
     "output_type": "execute_result"
    }
   ],
   "source": [
    "lidar = env.sim.lidar_tensor().to_torch()\n",
    "\n",
    "lidar.shape"
   ]
  },
  {
   "cell_type": "code",
   "execution_count": 43,
   "metadata": {},
   "outputs": [
    {
     "data": {
      "text/plain": [
       "torch.Size([3, 3, 50, 4])"
      ]
     },
     "execution_count": 43,
     "metadata": {},
     "output_type": "execute_result"
    }
   ],
   "source": [
    "lidar[env.cont_agent_mask].shape"
   ]
  },
  {
   "cell_type": "code",
   "execution_count": 45,
   "metadata": {},
   "outputs": [
    {
     "data": {
      "text/plain": [
       "(tensor(3.2548e+33), tensor(-2.5835e+14))"
      ]
     },
     "execution_count": 45,
     "metadata": {},
     "output_type": "execute_result"
    }
   ],
   "source": [
    "lidar[env.cont_agent_mask].max(), lidar[env.cont_agent_mask].min()"
   ]
  },
  {
   "cell_type": "code",
   "execution_count": 13,
   "metadata": {},
   "outputs": [],
   "source": [
    "lidar = LidarObs.from_tensor(\n",
    "    lidar_tensor=env.sim.lidar_tensor(),\n",
    "    backend='torch'\n",
    ")"
   ]
  },
  {
   "cell_type": "code",
   "execution_count": 14,
   "metadata": {},
   "outputs": [
    {
     "data": {
      "text/plain": [
       "torch.Size([1, 32, 50, 4])"
      ]
     },
     "execution_count": 14,
     "metadata": {},
     "output_type": "execute_result"
    }
   ],
   "source": [
    "lidar.agent_samples.shape"
   ]
  },
  {
   "cell_type": "code",
   "execution_count": 15,
   "metadata": {},
   "outputs": [
    {
     "data": {
      "text/plain": [
       "torch.Size([1, 32, 50, 4])"
      ]
     },
     "execution_count": 15,
     "metadata": {},
     "output_type": "execute_result"
    }
   ],
   "source": [
    "lidar.road_edge_samples.shape"
   ]
  },
  {
   "cell_type": "code",
   "execution_count": null,
   "metadata": {},
   "outputs": [
    {
     "data": {
      "text/plain": [
       "torch.Size([1, 32, 50, 4])"
      ]
     },
     "execution_count": 16,
     "metadata": {},
     "output_type": "execute_result"
    }
   ],
   "source": [
    "lidar.road_line_samples.shape"
   ]
  },
  {
   "cell_type": "code",
   "execution_count": 26,
   "metadata": {},
   "outputs": [
    {
     "data": {
      "text/plain": [
       "torch.Size([3, 600])"
      ]
     },
     "execution_count": 26,
     "metadata": {},
     "output_type": "execute_result"
    }
   ],
   "source": [
    "lidar_all = torch.cat(\n",
    "    [\n",
    "        lidar.agent_samples,\n",
    "        lidar.road_edge_samples,\n",
    "        lidar.road_line_samples,\n",
    "    ],\n",
    "    dim=-1,\n",
    ").flatten(start_dim=2)\n",
    "\n",
    "lidar_all[env.cont_agent_mask, :].shape"
   ]
  },
  {
   "cell_type": "code",
   "execution_count": 27,
   "metadata": {},
   "outputs": [
    {
     "data": {
      "text/plain": [
       "torch.Size([1, 32, 600])"
      ]
     },
     "execution_count": 27,
     "metadata": {},
     "output_type": "execute_result"
    }
   ],
   "source": [
    "lidar_all.shape"
   ]
  },
  {
   "cell_type": "markdown",
   "metadata": {},
   "source": []
  },
  {
   "cell_type": "code",
   "execution_count": 29,
   "metadata": {},
   "outputs": [
    {
     "data": {
      "text/plain": [
       "(tensor(3.2548e+33), tensor(-2.5835e+14))"
      ]
     },
     "execution_count": 29,
     "metadata": {},
     "output_type": "execute_result"
    }
   ],
   "source": [
    "lidar_all[env.cont_agent_mask, :].max(), lidar_all[env.cont_agent_mask, :].min()"
   ]
  },
  {
   "cell_type": "code",
   "execution_count": null,
   "metadata": {},
   "outputs": [],
   "source": []
  },
  {
   "cell_type": "code",
   "execution_count": 33,
   "metadata": {},
   "outputs": [
    {
     "data": {
      "text/plain": [
       "(tensor(3.2548e+33), tensor(-2.5835e+14))"
      ]
     },
     "execution_count": 33,
     "metadata": {},
     "output_type": "execute_result"
    }
   ],
   "source": [
    "lidar.agent_samples[env.cont_agent_mask].max(), lidar.agent_samples[env.cont_agent_mask].min()\n"
   ]
  },
  {
   "cell_type": "code",
   "execution_count": 35,
   "metadata": {},
   "outputs": [
    {
     "data": {
      "text/plain": [
       "(tensor(4.8408e+30), tensor(-2.5835e+14))"
      ]
     },
     "execution_count": 35,
     "metadata": {},
     "output_type": "execute_result"
    }
   ],
   "source": [
    "lidar.road_edge_samples[env.cont_agent_mask].max(), lidar.road_edge_samples[env.cont_agent_mask].min()"
   ]
  },
  {
   "cell_type": "code",
   "execution_count": 31,
   "metadata": {},
   "outputs": [
    {
     "data": {
      "text/plain": [
       "(tensor(7.2335e+10), tensor(-2.5835e+14))"
      ]
     },
     "execution_count": 31,
     "metadata": {},
     "output_type": "execute_result"
    }
   ],
   "source": [
    "lidar.road_line_samples.max(), lidar.road_line_samples.min()\n"
   ]
  },
  {
   "cell_type": "code",
   "execution_count": 32,
   "metadata": {},
   "outputs": [
    {
     "data": {
      "text/plain": [
       "torch.Size([1, 32, 3, 50, 4])"
      ]
     },
     "execution_count": 32,
     "metadata": {},
     "output_type": "execute_result"
    }
   ],
   "source": [
    "lidar.shape"
   ]
  },
  {
   "cell_type": "code",
   "execution_count": 24,
   "metadata": {},
   "outputs": [
    {
     "data": {
      "text/plain": [
       "tensor([[[[ 7.2349e+10,  4.5811e-41,  7.2349e+10,  4.5811e-41],\n",
       "          [-2.5771e+14,  3.0662e-41, -2.5771e+14,  3.0662e-41],\n",
       "          [-2.5835e+14,  3.0662e-41, -2.5771e+14,  3.0662e-41],\n",
       "          ...,\n",
       "          [ 4.3409e-41,  0.0000e+00,  0.0000e+00,  0.0000e+00],\n",
       "          [ 0.0000e+00,  0.0000e+00,  0.0000e+00,  0.0000e+00],\n",
       "          [ 0.0000e+00,  0.0000e+00,  4.6243e-44,  0.0000e+00]],\n",
       "\n",
       "         [[-2.5774e+14,  3.0662e-41,  0.0000e+00,  0.0000e+00],\n",
       "          [ 6.7359e-40,  0.0000e+00,  1.1210e-43,  0.0000e+00],\n",
       "          [-2.5471e+14,  3.0662e-41,  0.0000e+00,  0.0000e+00],\n",
       "          ...,\n",
       "          [ 4.3051e-41,  0.0000e+00,  0.0000e+00,  0.0000e+00],\n",
       "          [ 0.0000e+00,  0.0000e+00,  0.0000e+00,  0.0000e+00],\n",
       "          [ 6.7466e-40,  0.0000e+00,  1.1210e-43,  0.0000e+00]],\n",
       "\n",
       "         [[ 0.0000e+00,  0.0000e+00,  4.6243e-44,  0.0000e+00],\n",
       "          [-2.2988e+13,  3.0662e-41, -2.5475e+14,  3.0662e-41],\n",
       "          [ 6.7697e-40,  0.0000e+00,  1.1210e-43,  0.0000e+00],\n",
       "          ...,\n",
       "          [ 0.0000e+00,  0.0000e+00,  0.0000e+00,  0.0000e+00],\n",
       "          [ 0.0000e+00,  0.0000e+00,  4.6243e-44,  0.0000e+00],\n",
       "          [-2.2988e+13,  3.0662e-41, -2.5477e+14,  3.0662e-41]],\n",
       "\n",
       "         ...,\n",
       "\n",
       "         [[ 0.0000e+00,  0.0000e+00,  0.0000e+00,  0.0000e+00],\n",
       "          [-1.0000e+00, -1.0000e+00,  0.0000e+00,  0.0000e+00],\n",
       "          [ 0.0000e+00,  0.0000e+00,  0.0000e+00,  0.0000e+00],\n",
       "          ...,\n",
       "          [ 0.0000e+00,  0.0000e+00,  0.0000e+00,  0.0000e+00],\n",
       "          [ 0.0000e+00, -1.0000e+00, -1.0000e+00,  0.0000e+00],\n",
       "          [ 0.0000e+00,  0.0000e+00,  0.0000e+00,  0.0000e+00]],\n",
       "\n",
       "         [[ 0.0000e+00,  0.0000e+00,  0.0000e+00,  0.0000e+00],\n",
       "          [ 0.0000e+00,  0.0000e+00,  0.0000e+00, -1.0000e+00],\n",
       "          [-1.0000e+00,  0.0000e+00,  0.0000e+00,  0.0000e+00],\n",
       "          ...,\n",
       "          [-1.0000e+00,  0.0000e+00,  0.0000e+00,  0.0000e+00],\n",
       "          [ 0.0000e+00,  0.0000e+00,  0.0000e+00,  0.0000e+00],\n",
       "          [-1.0000e+00, -1.0000e+00,  0.0000e+00,  0.0000e+00]],\n",
       "\n",
       "         [[ 0.0000e+00, -1.0000e+00, -1.0000e+00,  0.0000e+00],\n",
       "          [ 0.0000e+00,  0.0000e+00,  0.0000e+00,  0.0000e+00],\n",
       "          [ 0.0000e+00,  0.0000e+00, -1.0000e+00, -1.0000e+00],\n",
       "          ...,\n",
       "          [ 0.0000e+00,  0.0000e+00, -1.0000e+00, -1.0000e+00],\n",
       "          [ 0.0000e+00,  0.0000e+00,  0.0000e+00,  0.0000e+00],\n",
       "          [ 0.0000e+00,  0.0000e+00,  0.0000e+00, -1.0000e+00]]]])"
      ]
     },
     "execution_count": 24,
     "metadata": {},
     "output_type": "execute_result"
    }
   ],
   "source": [
    "lidar.agent_samples"
   ]
  },
  {
   "cell_type": "markdown",
   "metadata": {},
   "source": []
  },
  {
   "cell_type": "markdown",
   "metadata": {},
   "source": []
  },
  {
   "cell_type": "markdown",
   "metadata": {},
   "source": []
  }
 ],
 "metadata": {
  "kernelspec": {
   "display_name": "gdrive",
   "language": "python",
   "name": "python3"
  },
  "language_info": {
   "codemirror_mode": {
    "name": "ipython",
    "version": 3
   },
   "file_extension": ".py",
   "mimetype": "text/x-python",
   "name": "python",
   "nbconvert_exporter": "python",
   "pygments_lexer": "ipython3",
   "version": "3.10.12"
  }
 },
 "nbformat": 4,
 "nbformat_minor": 2
}
