{
 "cells": [
  {
   "cell_type": "code",
   "execution_count": 3,
   "metadata": {},
   "outputs": [
    {
     "ename": "SyntaxError",
     "evalue": "invalid syntax (core.py, line 1260)",
     "output_type": "error",
     "traceback": [
      "Traceback \u001b[36m(most recent call last)\u001b[39m:\n",
      "  File \u001b[92m~/gpudriveenv/lib/python3.11/site-packages/IPython/core/interactiveshell.py:3546\u001b[39m in \u001b[95mrun_code\u001b[39m\n    exec(code_obj, self.user_global_ns, self.user_ns)\n",
      "  Cell \u001b[92mIn[3]\u001b[39m\u001b[92m, line 9\u001b[39m\n    from gpudrive.env.env_torch import GPUDriveTorchEnv\n",
      "\u001b[36m  \u001b[39m\u001b[36mFile \u001b[39m\u001b[32m~/Desktop/gpudrive/gpudrive/env/env_torch.py:21\u001b[39m\n\u001b[31m    \u001b[39m\u001b[31mfrom gpudrive.visualize.core import MatplotlibVisualizer\u001b[39m\n",
      "  \u001b[36mFile \u001b[39m\u001b[32m~/Desktop/gpudrive/gpudrive/visualize/core.py:1260\u001b[39m\n\u001b[31m    \u001b[39m\u001b[31melse:\u001b[39m\n    ^\n\u001b[31mSyntaxError\u001b[39m\u001b[31m:\u001b[39m invalid syntax\n"
     ]
    }
   ],
   "source": [
    "import torch\n",
    "import dataclasses\n",
    "import mediapy\n",
    "from huggingface_hub import PyTorchModelHubMixin\n",
    "from huggingface_hub import ModelCard\n",
    "from gpudrive.networks.late_fusion import NeuralNet\n",
    "\n",
    "from gpudrive.env.config import EnvConfig\n",
    "from gpudrive.env.env_torch import GPUDriveTorchEnv\n",
    "from gpudrive.visualize.utils import img_from_fig\n",
    "from gpudrive.env.dataset import SceneDataLoader\n",
    "from gpudrive.utils.config import load_config"
   ]
  },
  {
   "cell_type": "markdown",
   "metadata": {},
   "source": [
    "### Configs"
   ]
  },
  {
   "cell_type": "code",
   "execution_count": null,
   "metadata": {},
   "outputs": [],
   "source": [
    "# Configs model has been trained with\n",
    "config = load_config(\"../../examples/experimental/config/reliable_agents_params\")\n",
    "\n",
    "print(config)\n",
    "\n",
    "max_agents = config.max_controlled_agents\n",
    "num_envs = 2\n",
    "device = \"cpu\" # cpu just because we're in a notebook"
   ]
  },
  {
   "cell_type": "markdown",
   "metadata": {},
   "source": [
    "### Load pre-trained agent via Hugging Face hub\n"
   ]
  },
  {
   "cell_type": "code",
   "execution_count": null,
   "metadata": {},
   "outputs": [],
   "source": [
    "sim_agent = NeuralNet.from_pretrained(\"daphne-cornelisse/policy_S10_000_02_27\")"
   ]
  },
  {
   "cell_type": "code",
   "execution_count": null,
   "metadata": {},
   "outputs": [],
   "source": [
    "# Agent has an action dimension of 91: 13 steering wheel angle discretizations x 9 acceleration discretizations\n",
    "sim_agent.action_dim"
   ]
  },
  {
   "cell_type": "code",
   "execution_count": null,
   "metadata": {},
   "outputs": [],
   "source": [
    "# Size of flattened observation vector\n",
    "sim_agent.obs_dim"
   ]
  },
  {
   "cell_type": "code",
   "execution_count": null,
   "metadata": {},
   "outputs": [],
   "source": [
    "# Some other info\n",
    "card = ModelCard.load(\"daphne-cornelisse/policy_S10_000_02_27\")\n",
    "card.data.tags"
   ]
  },
  {
   "cell_type": "code",
   "execution_count": null,
   "metadata": {},
   "outputs": [],
   "source": [
    "# Model architecture\n",
    "#agent"
   ]
  },
  {
   "cell_type": "code",
   "execution_count": null,
   "metadata": {},
   "outputs": [],
   "source": [
    "# Weights \n",
    "#agent.state_dict()"
   ]
  },
  {
   "cell_type": "markdown",
   "metadata": {},
   "source": [
    "### Make environment"
   ]
  },
  {
   "cell_type": "code",
   "execution_count": null,
   "metadata": {},
   "outputs": [],
   "source": [
    "# Create data loader\n",
    "train_loader = SceneDataLoader(\n",
    "    root='../../data/processed/examples',\n",
    "    batch_size=num_envs,\n",
    "    dataset_size=100,\n",
    "    sample_with_replacement=False,\n",
    ")\n",
    "\n",
    "# Set params\n",
    "env_config = dataclasses.replace(\n",
    "    EnvConfig(),\n",
    "    ego_state=config.ego_state,\n",
    "    road_map_obs=config.road_map_obs,\n",
    "    partner_obs=config.partner_obs,\n",
    "    reward_type=config.reward_type,\n",
    "    norm_obs=config.norm_obs,\n",
    "    dynamics_model=config.dynamics_model,\n",
    "    collision_behavior=config.collision_behavior,\n",
    "    dist_to_goal_threshold=config.dist_to_goal_threshold,\n",
    "    polyline_reduction_threshold=config.polyline_reduction_threshold,\n",
    "    remove_non_vehicles=config.remove_non_vehicles,\n",
    "    lidar_obs=config.lidar_obs,\n",
    "    disable_classic_obs=config.lidar_obs,\n",
    "    obs_radius=config.obs_radius,\n",
    "    steer_actions = torch.round(\n",
    "        torch.linspace(-torch.pi, torch.pi, config.action_space_steer_disc), decimals=3  \n",
    "    ),\n",
    "    accel_actions = torch.round(\n",
    "        torch.linspace(-4.0, 4.0, config.action_space_accel_disc), decimals=3\n",
    "    ),\n",
    ")\n",
    "\n",
    "# Make env\n",
    "env = GPUDriveTorchEnv(\n",
    "    config=env_config,\n",
    "    data_loader=train_loader,\n",
    "    max_cont_agents=config.max_controlled_agents,\n",
    "    device=device,\n",
    ")"
   ]
  },
  {
   "cell_type": "code",
   "execution_count": null,
   "metadata": {},
   "outputs": [],
   "source": [
    "env.data_batch"
   ]
  },
  {
   "cell_type": "markdown",
   "metadata": {},
   "source": [
    "### Use the agent"
   ]
  },
  {
   "cell_type": "code",
   "execution_count": null,
   "metadata": {},
   "outputs": [],
   "source": [
    "next_obs = env.reset()\n",
    "\n",
    "control_mask = env.cont_agent_mask\n",
    "\n",
    "next_obs.shape"
   ]
  },
  {
   "cell_type": "code",
   "execution_count": null,
   "metadata": {},
   "outputs": [],
   "source": [
    "action, logprob, entropy, value = sim_agent(\n",
    "    next_obs[control_mask], deterministic=False\n",
    ")"
   ]
  },
  {
   "cell_type": "code",
   "execution_count": null,
   "metadata": {},
   "outputs": [],
   "source": [
    "action.shape, logprob.shape, entropy.shape, value.shape"
   ]
  },
  {
   "cell_type": "markdown",
   "metadata": {},
   "source": [
    "### Rollout"
   ]
  },
  {
   "cell_type": "code",
   "execution_count": null,
   "metadata": {},
   "outputs": [],
   "source": [
    "next_obs = env.reset()\n",
    "\n",
    "control_mask = env.cont_agent_mask\n",
    "\n",
    "print(next_obs.shape)\n",
    "\n",
    "frames = {f\"env_{i}\": [] for i in range(num_envs)}\n",
    "\n",
    "for time_step in range(env.episode_len):\n",
    "    print(f\"\\rStep: {time_step}\", end=\"\", flush=True)\n",
    "\n",
    "    # Predict actions\n",
    "    action, _, _, _ = sim_agent(\n",
    "        next_obs[control_mask], deterministic=False\n",
    "    )\n",
    "    action_template = torch.zeros(\n",
    "        (num_envs, max_agents), dtype=torch.int64, device=device\n",
    "    )\n",
    "    action_template[control_mask] = action.to(device)\n",
    "\n",
    "    # Step\n",
    "    env.step_dynamics(action_template)\n",
    "\n",
    "    # Render    \n",
    "    sim_states = env.vis.plot_simulator_state(\n",
    "        env_indices=list(range(num_envs)),\n",
    "        time_steps=[time_step]*num_envs,\n",
    "        zoom_radius=70,\n",
    "    )\n",
    "    \n",
    "    for i in range(num_envs):\n",
    "        frames[f\"env_{i}\"].append(img_from_fig(sim_states[i])) \n",
    "\n",
    "    next_obs = env.get_obs()\n",
    "    reward = env.get_rewards()\n",
    "    done = env.get_dones()\n",
    "    info = env.get_infos()\n",
    "    \n",
    "    if done.all():\n",
    "        break\n",
    "\n",
    "env.close()"
   ]
  },
  {
   "cell_type": "code",
   "execution_count": null,
   "metadata": {},
   "outputs": [],
   "source": [
    "mediapy.show_videos(frames, fps=15, width=500, height=500, columns=2, codec='gif')"
   ]
  }
 ],
 "metadata": {
  "kernelspec": {
   "display_name": "gpudriveenv",
   "language": "python",
   "name": "python3"
  },
  "language_info": {
   "codemirror_mode": {
    "name": "ipython",
    "version": 3
   },
   "file_extension": ".py",
   "mimetype": "text/x-python",
   "name": "python",
   "nbconvert_exporter": "python",
   "pygments_lexer": "ipython3",
   "version": "3.11.11"
  }
 },
 "nbformat": 4,
 "nbformat_minor": 2
}
