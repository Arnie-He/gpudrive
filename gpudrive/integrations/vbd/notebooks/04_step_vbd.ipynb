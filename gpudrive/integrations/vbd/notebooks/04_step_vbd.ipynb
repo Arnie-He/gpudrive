{
 "cells": [
  {
   "cell_type": "markdown",
   "id": "4ba8c301",
   "metadata": {},
   "source": [
    "# Step using amortized VBD and visualize"
   ]
  },
  {
   "cell_type": "code",
   "execution_count": 1,
   "id": "bcd58d7a",
   "metadata": {},
   "outputs": [
    {
     "ename": "RuntimeError",
     "evalue": "module compiled against ABI version 0x1000009 but this version of numpy is 0x2000000",
     "output_type": "error",
     "traceback": [
      "\u001b[31m---------------------------------------------------------------------------\u001b[39m",
      "\u001b[31mRuntimeError\u001b[39m                              Traceback (most recent call last)",
      "\u001b[31mRuntimeError\u001b[39m: module compiled against ABI version 0x1000009 but this version of numpy is 0x2000000"
     ]
    },
    {
     "ename": "RuntimeError",
     "evalue": "module compiled against ABI version 0x1000009 but this version of numpy is 0x2000000",
     "output_type": "error",
     "traceback": [
      "\u001b[31m---------------------------------------------------------------------------\u001b[39m",
      "\u001b[31mRuntimeError\u001b[39m                              Traceback (most recent call last)",
      "\u001b[31mRuntimeError\u001b[39m: module compiled against ABI version 0x1000009 but this version of numpy is 0x2000000"
     ]
    }
   ],
   "source": [
    "import os\n",
    "import torch\n",
    "import mediapy\n",
    "\n",
    "from pathlib import Path\n",
    "working_dir = Path.cwd()\n",
    "while working_dir.name != 'gpudrive':\n",
    "    working_dir = working_dir.parent\n",
    "    if working_dir == Path.home():\n",
    "        raise FileNotFoundError(\"Base directory 'gpudrive' not found\")\n",
    "os.chdir(working_dir.parent)\n",
    "\n",
    "from gpudrive.env.config import EnvConfig, RenderConfig\n",
    "from gpudrive.env.dataset import SceneDataLoader\n",
    "from gpudrive.env.env_torch import GPUDriveTorchEnv\n",
    "from gpudrive.datatypes.trajectory import VBDTrajectory\n",
    "from gpudrive.visualize.utils import img_from_fig"
   ]
  },
  {
   "cell_type": "code",
   "execution_count": 2,
   "id": "02325a7d",
   "metadata": {},
   "outputs": [],
   "source": [
    "#Init GPUDrive env\n",
    "device = \"cpu\"\n",
    "\n",
    "env_config = EnvConfig(\n",
    "    dynamics_model=\"state\", # Use state-based dynamics model\n",
    "    dist_to_goal_threshold=1e-5, # Trick to make sure the agents don't disappear when they reach the goal\n",
    "    init_mode = 'all_non_trivial',\n",
    "    max_controlled_agents=32,\n",
    "    goal_behavior='ignore'\n",
    ")\n",
    "        \n",
    "# Make env\n",
    "gpudrive_env = GPUDriveTorchEnv(\n",
    "    config=env_config,\n",
    "    data_loader = SceneDataLoader(\n",
    "        root=\"data/processed/vbd\",\n",
    "        batch_size=1,\n",
    "        dataset_size=4,\n",
    "    ),\n",
    "    render_config=RenderConfig(),\n",
    "    max_cont_agents=32, # Maximum number of agents to control per scene\n",
    "    device=device,\n",
    ")\n",
    "\n",
    "gpudrive_env.swap_data_batch()"
   ]
  },
  {
   "cell_type": "code",
   "execution_count": 3,
   "id": "cde65bde",
   "metadata": {},
   "outputs": [],
   "source": [
    "# Action tensor to step through simulation\n",
    "predicted_actions = torch.zeros((gpudrive_env.num_worlds, gpudrive_env.max_agent_count, gpudrive_env.episode_len, 10))\n",
    "\n",
    "vbd_trajectories = VBDTrajectory.from_tensor(\n",
    "    gpudrive_env.sim.vbd_trajectory_tensor(),\n",
    "    device=device,\n",
    ")\n",
    "\n",
    "predicted_actions[:, :, :, 0] = vbd_trajectories.pos_x\n",
    "predicted_actions[:, :, :, 1] = vbd_trajectories.pos_y\n",
    "predicted_actions[:, :, :, 3] = vbd_trajectories.yaw\n",
    "predicted_actions[:, :, :, 4] = vbd_trajectories.vel_x\n",
    "predicted_actions[:, :, :, 5] = vbd_trajectories.vel_y\n",
    "\n",
    "sim_state_frames = []\n",
    "# fig = gpudrive_env.vis.plot_simulator_state(\n",
    "#     time_steps=[0],\n",
    "#     env_indices=[0],\n",
    "#     zoom_radius=70,\n",
    "# )[0]\n",
    "# # Save initial state\n",
    "# sim_state_frames.append(img_from_fig(fig))\n",
    "\n",
    "for t in range(env_config.episode_len):\n",
    "    # Step through simulation\n",
    "    gpudrive_env.step_dynamics(predicted_actions[:, :, t, :])\n",
    "    fig = gpudrive_env.vis.plot_simulator_state(\n",
    "        time_steps=[t],\n",
    "        env_indices=[0],\n",
    "        zoom_radius=80,\n",
    "    )[0]\n",
    "    sim_state_frames.append(img_from_fig(fig))"
   ]
  },
  {
   "cell_type": "code",
   "execution_count": 4,
   "id": "19a5bca6",
   "metadata": {},
   "outputs": [],
   "source": [
    "mediapy.write_video('gpudrive/integrations/vbd/viz/train.gif', sim_state_frames, fps=20, codec=\"gif\")"
   ]
  }
 ],
 "metadata": {
  "kernelspec": {
   "display_name": "gpudrive",
   "language": "python",
   "name": "python3"
  },
  "language_info": {
   "codemirror_mode": {
    "name": "ipython",
    "version": 3
   },
   "file_extension": ".py",
   "mimetype": "text/x-python",
   "name": "python",
   "nbconvert_exporter": "python",
   "pygments_lexer": "ipython3",
   "version": "3.11.8"
  }
 },
 "nbformat": 4,
 "nbformat_minor": 5
}
