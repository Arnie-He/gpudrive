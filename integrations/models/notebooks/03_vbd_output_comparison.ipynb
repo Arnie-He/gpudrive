{
 "cells": [
  {
   "cell_type": "markdown",
   "metadata": {},
   "source": [
    "# Comparing VBD Outputs: Waymax vs GPUDrive"
   ]
  },
  {
   "cell_type": "code",
   "execution_count": 1,
   "metadata": {},
   "outputs": [
    {
     "name": "stderr",
     "output_type": "stream",
     "text": [
      "2025-01-17 12:06:30.966055: E external/local_xla/xla/stream_executor/cuda/cuda_fft.cc:477] Unable to register cuFFT factory: Attempting to register factory for plugin cuFFT when one has already been registered\n",
      "WARNING: All log messages before absl::InitializeLog() is called are written to STDERR\n",
      "E0000 00:00:1737095790.984061   19526 cuda_dnn.cc:8310] Unable to register cuDNN factory: Attempting to register factory for plugin cuDNN when one has already been registered\n",
      "E0000 00:00:1737095790.989386   19526 cuda_blas.cc:1418] Unable to register cuBLAS factory: Attempting to register factory for plugin cuBLAS when one has already been registered\n",
      "2025-01-17 12:06:31.007724: I tensorflow/core/platform/cpu_feature_guard.cc:210] This TensorFlow binary is optimized to use available CPU instructions in performance-critical operations.\n",
      "To enable the following instructions: AVX2 FMA, in other operations, rebuild TensorFlow with the appropriate compiler flags.\n"
     ]
    }
   ],
   "source": [
    "%%capture\n",
    "import waymax\n",
    "import numpy as np\n",
    "import math\n",
    "import mediapy\n",
    "from tqdm import tqdm\n",
    "import dataclasses\n",
    "import os\n",
    "import shutil\n",
    "from pathlib import Path\n",
    "import pickle\n",
    "import pandas as pd\n",
    "import tensorflow as tf\n",
    "import matplotlib.pyplot as plt\n",
    "import seaborn as sns\n",
    "import torch\n",
    "from waymax import config as _config\n",
    "from waymax import dataloader, datatypes, visualization, dynamics\n",
    "from waymax.datatypes.simulator_state import SimulatorState\n",
    "from waymax.config import EnvironmentConfig, ObjectType\n",
    "\n",
    "# Set working directory to the base directory 'gpudrive'\n",
    "working_dir = Path.cwd()\n",
    "while working_dir.name != 'gpudrive':\n",
    "    working_dir = working_dir.parent\n",
    "    if working_dir == Path.home():\n",
    "        raise FileNotFoundError(\"Base directory 'gpudrive' not found\")\n",
    "os.chdir(working_dir)\n",
    "\n",
    "# VBD dependencies\n",
    "from integrations.models.vbd.sim_agent.waymax_env import WaymaxEnvironment\n",
    "from integrations.models.vbd.data.dataset import WaymaxTestDataset\n",
    "from integrations.models.vbd.waymax_visualization.plotting import plot_state\n",
    "from integrations.models.vbd.sim_agent.sim_actor import VBDTest, sample_to_action\n",
    "from integrations.models.vbd.model.utils import set_seed\n",
    "\n",
    "# GPUDrive dependencies\n",
    "import gpudrive\n",
    "from pygpudrive.env.config import EnvConfig, RenderConfig, SceneConfig, SelectionDiscipline\n",
    "from pygpudrive.env.env_torch import GPUDriveTorchEnv\n",
    "from pygpudrive.env.dataset import SceneDataLoader\n",
    "from pygpudrive.visualize.utils import img_from_fig\n",
    "\n",
    "# Plotting\n",
    "sns.set(\"notebook\")\n",
    "sns.set_style(\"ticks\", rc={\"figure.facecolor\": \"none\", \"axes.facecolor\": \"none\"})\n",
    "#%config InlineBackend.figure_format = 'svg'\n",
    "\n",
    "# Ignore all warnings\n",
    "import warnings\n",
    "warnings.filterwarnings(\"ignore\")"
   ]
  },
  {
   "cell_type": "markdown",
   "metadata": {},
   "source": [
    "### Configurations"
   ]
  },
  {
   "cell_type": "code",
   "execution_count": 2,
   "metadata": {},
   "outputs": [],
   "source": [
    "DATA_DIR = 'data/processed' # Base data path\n",
    "CKPT_DIR = 'data/checkpoints' # Base checkpoint path\n",
    "CKPT_PATH = 'integrations/models/vbd/weights/epoch=18.ckpt'\n",
    "\n",
    "SCENARIO_ID = 'efc5cbe01b4a526f'\n",
    "\n",
    "FPS = 20\n",
    "INIT_STEPS = 11 # Warmup period\n",
    "MAX_CONTROLLED_OBJECTS = 32"
   ]
  },
  {
   "cell_type": "markdown",
   "metadata": {},
   "source": [
    "### Load pre-trained VBD model"
   ]
  },
  {
   "cell_type": "code",
   "execution_count": 3,
   "metadata": {},
   "outputs": [],
   "source": [
    "# Load model\n",
    "model = VBDTest.load_from_checkpoint(CKPT_PATH, torch.device('cpu'))\n",
    "_ = model.cpu()\n",
    "_ = model.eval();\n",
    "\n",
    "# Model settings\n",
    "replan_freq=80 # Roll out every X steps 80 means openloop\n",
    "model.early_stop=0 # Stop Diffusion Early From 100 to X\n",
    "model.skip = 1 # Skip Alpha \n",
    "model.reward_func = None\n",
    "\n",
    "# Ensure reproducability\n",
    "#set_seed(5)"
   ]
  },
  {
   "cell_type": "code",
   "execution_count": 4,
   "metadata": {},
   "outputs": [],
   "source": [
    "#Function to save frames side by side.\n",
    "def save_side_by_side_gif(frames1, frames2, output_path, fps=FPS):\n",
    "    \"\"\"\n",
    "    Saves two arrays of frames as a single side-by-side GIF.\n",
    "\n",
    "    Parameters:\n",
    "        frames1 (list of np.ndarray): First array of frames (images).\n",
    "        frames2 (list of np.ndarray): Second array of frames (images).\n",
    "        output_path (str): Path to save the output GIF.\n",
    "        fps (int): Frames per second for the GIF.\n",
    "    \"\"\"\n",
    "    # Ensure both arrays have the same number of frames\n",
    "    if len(frames1) != len(frames2):\n",
    "        raise ValueError(\"The two frame arrays must have the same number of frames.\")\n",
    "    \n",
    "    # Combine frames side by side\n",
    "    combined_frames = []\n",
    "    for frame1, frame2 in zip(frames1, frames2):\n",
    "        # Ensure frames have the same height\n",
    "        if frame1.shape[0] != frame2.shape[0]:\n",
    "            raise ValueError(\"Frames must have the same height to combine them side by side.\")\n",
    "        \n",
    "        # Concatenate frames horizontally\n",
    "        combined_frame = np.hstack((frame1, frame2))\n",
    "        combined_frames.append(combined_frame)\n",
    "    \n",
    "    # Save the combined frames as a GIF\n",
    "    mediapy.write_video(output_path, combined_frames, fps=fps, codec=\"gif\")\n",
    "    print(f\"GIF saved at {output_path}\")"
   ]
  },
  {
   "cell_type": "markdown",
   "metadata": {},
   "source": [
    "### Make Videos"
   ]
  },
  {
   "cell_type": "code",
   "execution_count": 5,
   "metadata": {},
   "outputs": [
    {
     "name": "stderr",
     "output_type": "stream",
     "text": [
      "An NVIDIA GPU may be present on this machine, but a CUDA-enabled jaxlib is not installed. Falling back to cpu.\n"
     ]
    },
    {
     "name": "stdout",
     "output_type": "stream",
     "text": [
      "Found 55 scenarios\n"
     ]
    },
    {
     "name": "stderr",
     "output_type": "stream",
     "text": [
      "Diffusion: 100%|██████████| 50/50 [00:16<00:00,  3.05it/s]\n",
      "Diffusion: 100%|██████████| 50/50 [00:17<00:00,  2.94it/s]\n"
     ]
    },
    {
     "name": "stdout",
     "output_type": "stream",
     "text": [
      "GIF saved at integrations/models/videos/efc5cbe01b4a526f.gif\n"
     ]
    }
   ],
   "source": [
    "# Create waymax test \"dataset\" obj (need for utils)\n",
    "dataset = WaymaxTestDataset(\n",
    "    data_dir = 'data/processed/debug/waymax', \n",
    "    anchor_path = 'integrations/models/vbd/data/cluster_64_center_dict.pkl',\n",
    "    max_object=MAX_CONTROLLED_OBJECTS,\n",
    ")\n",
    "#Init Waymax env\n",
    "env_config = EnvironmentConfig(\n",
    "    controlled_object=ObjectType.VALID,\n",
    "    allow_new_objects_after_warmup=False,\n",
    "    init_steps=INIT_STEPS+1,\n",
    "    max_num_objects=MAX_CONTROLLED_OBJECTS,\n",
    ")\n",
    "waymax_env = WaymaxEnvironment(\n",
    "    dynamics_model=dynamics.StateDynamics(),\n",
    "    config=env_config,\n",
    "    log_replay = True,\n",
    ")\n",
    "\n",
    "with open(f'{DATA_DIR}/debug/waymax/waymax_scenario_{SCENARIO_ID}.pkl', 'rb') as f:\n",
    "    scenario = pickle.load(f)\n",
    "\n",
    "#Generate video with vbd trajectories\n",
    "init_state = waymax_env.reset(scenario)\n",
    "current_state = init_state\n",
    "sample = dataset.process_scenario(\n",
    "init_state,\n",
    "current_index=init_state.timestep,\n",
    "use_log=False\n",
    ")\n",
    "is_controlled = sample['agents_interested'] > 0\n",
    "selected_agents = sample['agents_id'][is_controlled]\n",
    "state_logs = [current_state]\n",
    "\n",
    "for i in range(current_state.remaining_timesteps):\n",
    "    t = i % replan_freq\n",
    "    if t == 0:\n",
    "        sample = dataset.process_scenario(\n",
    "        current_state, \n",
    "        current_index = current_state.timestep,\n",
    "        use_log=False,\n",
    "        selected_agents=selected_agents, # override the agent selection by distance to the ego\n",
    "        )\n",
    "        batch = dataset.__collate_fn__([sample])\n",
    "        pred = model.sample_denoiser(batch)\n",
    "        traj_pred = pred['denoised_trajs'].cpu().numpy()[0]\n",
    "\n",
    "    # Get action\n",
    "    action_sample = traj_pred[:, t, :]\n",
    "    action = sample_to_action(\n",
    "    action_sample, \n",
    "    is_controlled, \n",
    "    agents_id=selected_agents, \n",
    "    max_num_objects=MAX_CONTROLLED_OBJECTS\n",
    "    )\n",
    "    # Step the simulator\n",
    "    current_state = waymax_env.step_sim_agent(current_state, [action])\n",
    "    state_logs.append(current_state)\n",
    "\n",
    "waymax_frames = [plot_state(state) for state in state_logs]\n",
    "\n",
    "#Init GPUDrive env\n",
    "env_config = EnvConfig(\n",
    "    init_steps=INIT_STEPS, # Warmup period\n",
    "    remove_non_vehicles=False, # Control vehicles, pedestrians, and cyclists\n",
    "    return_vbd_data=True, # Use VBD\n",
    "    dynamics_model=\"state\", # Use state-based dynamics model\n",
    "    dist_to_goal_threshold=1e-5, # Trick to make sure the agents don't disappear when they reach the goal\n",
    "    collision_behavior=\"ignore\", # Ignore collisions\n",
    "    init_all_objects = True\n",
    ")\n",
    "        \n",
    "scene_config = SceneConfig(batch_size=1, dataset_size=1, path=\"data/processed/temp\", num_scenes=1)\n",
    "# Make env\n",
    "gpudrive_env = GPUDriveTorchEnv(\n",
    "    config=env_config,\n",
    "    data_loader = SceneDataLoader(\n",
    "        root=\"data/processed/temp\",\n",
    "        batch_size=scene_config.batch_size,\n",
    "        dataset_size=scene_config.dataset_size,\n",
    "    ),\n",
    "    render_config=RenderConfig(draw_obj_idx=True, render_init=True, resolution=(400, 400)),\n",
    "    max_cont_agents=MAX_CONTROLLED_OBJECTS, # Maximum number of agents to control per scene\n",
    "    device=\"cpu\",\n",
    ")\n",
    "#Generate video with VBD trajectories \n",
    "init_state = gpudrive_env.reset()\n",
    "selected_agents = torch.nonzero(gpudrive_env.cont_agent_mask[0, :]).flatten().tolist()\n",
    "# Obtain all info for diffusion model (warmup)\n",
    "gpudrive_sample_batch = gpudrive_env.sample_batch\n",
    "# Obtain predicted trajectories\n",
    "pred = model.sample_denoiser(gpudrive_sample_batch)#, x_t=x_t)\n",
    "vbd_traj_pred = pred['denoised_trajs'].cpu().numpy()[0]\n",
    "is_controlled = gpudrive_sample_batch['agents_interested'] > 0\n",
    "agent_indices = gpudrive_sample_batch['agents_id'][0]\n",
    "\n",
    "pred_trajs = torch.zeros((gpudrive_env.max_agent_count, env_config.episode_len-INIT_STEPS, 10))\n",
    "pred_trajs[agent_indices, :, :2] = torch.Tensor(vbd_traj_pred[:, :, 0:2]) # pos x, y\n",
    "pred_trajs[agent_indices, :, :2] -= gpudrive_env.sim.world_means_tensor().to_torch()[0, :2] #re-mean the predicted trajectory positions\n",
    "pred_trajs[agent_indices, :, 3] = torch.Tensor(vbd_traj_pred[:, :, 2]) # yaw \n",
    "pred_trajs[agent_indices, :, 4:6] = torch.Tensor(vbd_traj_pred[:, :, 3:5]) # vel x, y\n",
    "pred_trajs = pred_trajs.unsqueeze(0)\n",
    "\n",
    "gpudrive_frames = []\n",
    "\n",
    "# Step\n",
    "for t in range(env_config.episode_len-INIT_STEPS):\n",
    "    gpudrive_env.step_dynamics(pred_trajs[:, :, t, :])\n",
    "    fig = gpudrive_env.vis.plot_simulator_state(\n",
    "        env_indices=[0],\n",
    "        time_steps=[t],\n",
    "        zoom_radius=70,\n",
    "    )[0]\n",
    "    \n",
    "    gpudrive_frames.append(img_from_fig(fig))\n",
    "\n",
    "save_side_by_side_gif(waymax_frames, gpudrive_frames, f'integrations/models/videos/{SCENARIO_ID}.gif')\n"
   ]
  },
  {
   "cell_type": "markdown",
   "metadata": {},
   "source": [
    "## Plotting VBD trajectory as part of agent obs"
   ]
  },
  {
   "cell_type": "code",
   "execution_count": 36,
   "metadata": {},
   "outputs": [
    {
     "data": {
      "text/plain": [
       "tensor([ 2,  3,  4,  5,  7,  8, 10, 11, 13, 15, 16, 22, 23, 24, 25, 26, 27, 29,\n",
       "        30, 31, 32, 33, 34, 35, 36, 37, 38, 41, 58, 61, 62, 63],\n",
       "       dtype=torch.int32)"
      ]
     },
     "execution_count": 36,
     "metadata": {},
     "output_type": "execute_result"
    }
   ],
   "source": [
    "agent_indices"
   ]
  },
  {
   "cell_type": "code",
   "execution_count": 71,
   "metadata": {},
   "outputs": [
    {
     "data": {
      "text/plain": [
       "tensor([-9705.1787,  3761.1929])"
      ]
     },
     "execution_count": 71,
     "metadata": {},
     "output_type": "execute_result"
    }
   ],
   "source": [
    "gpudrive_env.sim.world_means_tensor().to_torch()[0, :2]"
   ]
  },
  {
   "cell_type": "code",
   "execution_count": 77,
   "metadata": {},
   "outputs": [
    {
     "data": {
      "image/png": "[encoded data removed]",
      "text/plain": [
       "<Figure size 400x400 with 1 Axes>"
      ]
     },
     "metadata": {},
     "output_type": "display_data"
    }
   ],
   "source": [
    "# plotting vbd trajectory as part of observation\n",
    "agent_index = agent_indices[0]\n",
    "vbd_trajectory = pred_trajs[0, agent_index, :, :2]\n",
    "pos_xy = gpudrive_sample_batch['agents_history'][0, agent_index, -1, :2] - gpudrive_env.sim.world_means_tensor().to_torch()[0, :2]\n",
    "yaw = gpudrive_sample_batch['agents_history'][0, agent_index, -1, 2]\n",
    "init_state = gpudrive_env.reset()\n",
    "fig = gpudrive_env.vis.plot_agent_observation(\n",
    "    agent_idx=agent_index,\n",
    "    env_idx=0,\n",
    "    trajectory=vbd_trajectory,\n",
    "    figsize = (4, 4)\n",
    ")"
   ]
  },
  {
   "cell_type": "code",
   "execution_count": 78,
   "metadata": {},
   "outputs": [
    {
     "data": {
      "text/plain": [
       "(tensor([-21.4629,  13.4795]), tensor([-18.6807,  48.0344]))"
      ]
     },
     "execution_count": 78,
     "metadata": {},
     "output_type": "execute_result"
    }
   ],
   "source": [
    "vbd_trajectory[0], pos_xy"
   ]
  },
  {
   "cell_type": "code",
   "execution_count": 79,
   "metadata": {},
   "outputs": [],
   "source": [
    "def transform_to_ego_frame(trajectory: torch.Tensor, ego_pos: torch.Tensor, ego_yaw: torch.Tensor) -> torch.Tensor:\n",
    "    \"\"\"\n",
    "    Transform trajectory from global coordinates to ego-centric frame.\n",
    "    \n",
    "    Args:\n",
    "        trajectory: Shape (time_steps, 2) containing x,y coordinates in global frame\n",
    "        ego_pos: Shape (2,) containing ego x,y position\n",
    "        ego_yaw: Shape (1,) containing ego yaw angle in radians\n",
    "    \n",
    "    Returns:\n",
    "        transformed_trajectory: Shape (time_steps, 2) in ego-centric frame\n",
    "    \"\"\"\n",
    "    # Shift to ego position\n",
    "    centered_trajectory = trajectory - ego_pos\n",
    "\n",
    "    # Create rotation matrix\n",
    "    cos_yaw = torch.cos(ego_yaw)  # Negative since we're transforming to ego frame\n",
    "    sin_yaw = torch.sin(ego_yaw)\n",
    "    rotation_matrix = torch.tensor([\n",
    "        [cos_yaw, -sin_yaw],\n",
    "        [sin_yaw, cos_yaw]\n",
    "    ], device=trajectory.device)\n",
    "    \n",
    "    # Rotate trajectory\n",
    "    transformed_trajectory = torch.matmul(centered_trajectory, rotation_matrix.T)\n",
    "    \n",
    "    return transformed_trajectory"
   ]
  },
  {
   "cell_type": "code",
   "execution_count": 80,
   "metadata": {},
   "outputs": [
    {
     "data": {
      "image/png": "[encoded data removed]",
      "text/plain": [
       "<Figure size 400x400 with 1 Axes>"
      ]
     },
     "metadata": {},
     "output_type": "display_data"
    }
   ],
   "source": [
    "transformed_trajectory = transform_to_ego_frame(vbd_trajectory, pos_xy, yaw)\n",
    "\n",
    "# plotting vbd trajectory as part of observation (local frame)\n",
    "init_state = gpudrive_env.reset()\n",
    "fig = gpudrive_env.vis.plot_agent_observation(\n",
    "    agent_idx=agent_index,\n",
    "    env_idx=0,\n",
    "    trajectory=transformed_trajectory,\n",
    "    figsize = (4, 4)\n",
    ")"
   ]
  },
  {
   "cell_type": "code",
   "execution_count": 81,
   "metadata": {},
   "outputs": [
    {
     "data": {
      "text/plain": [
       "tensor([[34.5862, -2.3627],\n",
       "        [34.6423, -2.3591],\n",
       "        [34.6915, -2.3546],\n",
       "        [34.8061, -2.3395],\n",
       "        [34.9094, -2.3217],\n",
       "        [35.0156, -2.2999],\n",
       "        [35.1677, -2.2619],\n",
       "        [35.3439, -2.2099],\n",
       "        [35.5484, -2.1391],\n",
       "        [35.7537, -2.0575],\n",
       "        [35.9861, -1.9521],\n",
       "        [36.2353, -1.8241],\n",
       "        [36.4993, -1.6734],\n",
       "        [36.7896, -1.4892],\n",
       "        [37.0902, -1.2766],\n",
       "        [37.3885, -1.0434],\n",
       "        [37.7026, -0.7711],\n",
       "        [38.0248, -0.4624],\n",
       "        [38.3512, -0.1206],\n",
       "        [38.6657,  0.2407],\n",
       "        [38.9954,  0.6578],\n",
       "        [39.3147,  1.1041],\n",
       "        [39.6035,  1.5491],\n",
       "        [39.8934,  2.0438],\n",
       "        [40.1700,  2.5697],\n",
       "        [40.4359,  3.1364],\n",
       "        [40.6879,  3.7382],\n",
       "        [40.9138,  4.3533],\n",
       "        [41.1166,  4.9847],\n",
       "        [41.3002,  5.6481],\n",
       "        [41.4653,  6.3474],\n",
       "        [41.6056,  7.0650],\n",
       "        [41.7194,  7.7842],\n",
       "        [41.8140,  8.5569],\n",
       "        [41.8891,  9.3322],\n",
       "        [41.9436, 10.1132],\n",
       "        [41.9784, 10.9311],\n",
       "        [41.9881, 11.7379],\n",
       "        [41.9878, 12.5681],\n",
       "        [41.9792, 13.4157],\n",
       "        [41.9617, 14.2749],\n",
       "        [41.9374, 15.1467],\n",
       "        [41.9095, 16.0205],\n",
       "        [41.8749, 16.9205],\n",
       "        [41.8361, 17.8264],\n",
       "        [41.7917, 18.7429],\n",
       "        [41.7443, 19.6730],\n",
       "        [41.6930, 20.6246],\n",
       "        [41.6401, 21.5792],\n",
       "        [41.5841, 22.5541],\n",
       "        [41.5262, 23.5447],\n",
       "        [41.4667, 24.5460],\n",
       "        [41.4044, 25.5737],\n",
       "        [41.3418, 26.5837],\n",
       "        [41.2766, 27.6123],\n",
       "        [41.2107, 28.6370],\n",
       "        [41.1441, 29.6821],\n",
       "        [41.0769, 30.7498],\n",
       "        [41.0083, 31.8340],\n",
       "        [40.9384, 32.9250],\n",
       "        [40.8652, 34.0130],\n",
       "        [40.7884, 35.1118],\n",
       "        [40.7090, 36.2213],\n",
       "        [40.6288, 37.3337],\n",
       "        [40.5497, 38.4431],\n",
       "        [40.4687, 39.5819],\n",
       "        [40.3898, 40.7099],\n",
       "        [40.3137, 41.8282],\n",
       "        [40.2365, 42.9787],\n",
       "        [40.1617, 44.1127],\n",
       "        [40.0873, 45.2613],\n",
       "        [40.0106, 46.4264],\n",
       "        [39.9342, 47.5897],\n",
       "        [39.8574, 48.7734],\n",
       "        [39.7814, 49.9415],\n",
       "        [39.7048, 51.1223],\n",
       "        [39.6269, 52.3128],\n",
       "        [39.5489, 53.5053],\n",
       "        [39.4709, 54.7232],\n",
       "        [39.3923, 55.9275]])"
      ]
     },
     "execution_count": 81,
     "metadata": {},
     "output_type": "execute_result"
    }
   ],
   "source": [
    "transformed_trajectory"
   ]
  }
 ],
 "metadata": {
  "kernelspec": {
   "display_name": "gpudrive",
   "language": "python",
   "name": "python3"
  },
  "language_info": {
   "codemirror_mode": {
    "name": "ipython",
    "version": 3
   },
   "file_extension": ".py",
   "mimetype": "text/x-python",
   "name": "python",
   "nbconvert_exporter": "python",
   "pygments_lexer": "ipython3",
   "version": "3.11.8"
  }
 },
 "nbformat": 4,
 "nbformat_minor": 2
}
